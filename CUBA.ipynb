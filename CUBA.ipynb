{
 "cells": [
  {
   "cell_type": "code",
   "execution_count": 2,
   "metadata": {},
   "outputs": [
    {
     "data": {
      "text/html": [
       "<style>.container { width:80% !important; }</style>"
      ],
      "text/plain": [
       "<IPython.core.display.HTML object>"
      ]
     },
     "metadata": {},
     "output_type": "display_data"
    }
   ],
   "source": [
    "from IPython.core.display import display, HTML\n",
    "display(HTML(\"<style>.container { width:80% !important; }</style>\"))\n"
   ]
  },
  {
   "cell_type": "code",
   "execution_count": null,
   "metadata": {},
   "outputs": [],
   "source": [
    "from selenium import webdriver\n",
    "from time import sleep\n",
    "import pandas as pd\n",
    "\n",
    "\n",
    "options = webdriver.ChromeOptions()\n",
    "options.add_argument(\"--start-maximized\")\n",
    "\n",
    "\n",
    "# Ruta absoluta para mi pc :\n",
    "driver_path = 'C:\\\\Users\\\\LENOVO\\\\Downloads\\\\chromedriver_win32\\\\chromedriver.exe'\n",
    "\n",
    "#Ruta relativa para todos :\n",
    "# driver_path = \"./chromedriver_win32/chromedriver.exe\"\n",
    "\n",
    "driver = webdriver.Chrome(driver_path, chrome_options=options)\n",
    "                     \n",
    "                     \n",
    "# Inicializamos el navegador\n",
    "driver.get('https://www.minint.gob.cu')\n",
    "sleep(1)\n",
    "\n",
    "# HACEMOS CLICK A TRAMITES:\n",
    "\n",
    "driver.find_element_by_xpath('/html/body/div/section/header/div/nav/div/div[2]/ul/li[5]/a').click()\n",
    "sleep(1)\n",
    "\n",
    "# HACEMOS CLICK A IDENTIFICACIÓN,INMIGRACIÓN Y EXTRANJERÍA:\n",
    "\n",
    "driver.find_element_by_xpath('/html/body/div/section/header/div/nav/div/div[2]/ul/li[5]/div/div/ul/div/div[6]/li/a').click()\n",
    "sleep(1)\n",
    "\n",
    "#VICION EN EL AREA A TRABAJAR \"bajamos con el scroll\":\n",
    "\n",
    "driver.execute_script(\"window.scrollTo(0, 3100)\")\n",
    "\n",
    "muni_total    =   []\n",
    "address_total =   []\n",
    "regions       =   []\n",
    "\n",
    "# TOMAMOS LA CANTIDAD DE REGIONES PARA UN FOR:\n",
    "\n",
    "regs = driver.find_elements_by_xpath('/html/body/div/section/div[1]/div/div/div[5]/div/div')\n",
    "\n",
    "# EMPESAMOS A OBTENER INFORMACION\"\n",
    "# FOR, WHILE, TRY, EXCEPT:\n",
    "\n",
    "for j  in range(1,len(regs)+1,1):\n",
    "    \n",
    "    region = [driver.find_element_by_xpath(f'/html/body/div/section/div[1]/div/div/div[5]/div/div[{j}]/div[1]/div/a').text]\n",
    "    \n",
    "    try:                            \n",
    "        driver.find_element_by_xpath(f'/html/body/div/section/div[1]/div/div/div[5]/div/div[{j}]/div[1]/div/a').click()\n",
    "        \n",
    "        sleep(1)\n",
    "\n",
    "        muni = []\n",
    "        address = []\n",
    "        i = 1\n",
    "        box = \"existe siguiente elemento\"    \n",
    "        while box != 0:\n",
    "            \n",
    "             \n",
    "            mun = [driver.find_element_by_xpath( f\"/html/body/div/section/div[1]/div/div/div[5]/div/div[{j}]/div[2]/div/div/table/tbody/tr[{i}]/td[1]\" ).text]\n",
    "            mun1 = mun * len( addr1 )\n",
    "            muni = muni + mun1\n",
    "            \n",
    "            \n",
    "            \n",
    "            addr = driver.find_element_by_xpath( f\"/html/body/div/section/div[1]/div/div/div[5]/div/div[{j}]/div[2]/div/div/table/tbody/tr[{i}]/td[2]\").text\n",
    "            addr1 = addr.split(\"\\n\")            \n",
    "            address = address + addr1                             \n",
    "\n",
    "\n",
    "            try:            \n",
    "                driver.find_element_by_xpath( f\"/html/body/div/section/div[1]/div/div/div[5]/div/div[{j}]/div[2]/div/div/table/tbody/tr[{i+1}]/td[1]\" ).text\n",
    "\n",
    "            except:\n",
    "                box = 0\n",
    "\n",
    "            i = i + 1\n",
    "\n",
    "        muni_total = muni_total + muni\n",
    "        address_total =address_total +address     \n",
    "        regions = regions + region * len(address)\n",
    "    \n",
    "    except:\n",
    "        \n",
    "        print(\"SIN INFORMACION\")\n",
    "        print(region)\n",
    "        sleep(3)\n",
    "\n",
    "\n",
    "pd.DataFrame({ 'REGIONES' : regions,\"MUNICIPALIDADES\": muni_total,\"DIRECCIONES\": address_total}).to_excel(r\"cuba.xlsx\" , index = False )"
   ]
  }
 ],
 "metadata": {
  "kernelspec": {
   "display_name": "Python 3",
   "language": "python",
   "name": "python3"
  },
  "language_info": {
   "codemirror_mode": {
    "name": "ipython",
    "version": 3
   },
   "file_extension": ".py",
   "mimetype": "text/x-python",
   "name": "python",
   "nbconvert_exporter": "python",
   "pygments_lexer": "ipython3",
   "version": "3.8.8"
  }
 },
 "nbformat": 4,
 "nbformat_minor": 4
}
